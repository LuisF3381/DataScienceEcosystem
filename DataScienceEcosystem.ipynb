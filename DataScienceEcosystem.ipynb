{
 "cells": [
  {
   "cell_type": "markdown",
   "id": "5881b094-d87f-43e4-9e62-47947c76adbe",
   "metadata": {
    "tags": []
   },
   "source": [
    "# Data Science Tools and Ecosystem"
   ]
  },
  {
   "cell_type": "markdown",
   "id": "0e076dae-5529-4d80-a559-1a2b08a2b268",
   "metadata": {},
   "source": [
    "In this notebook, Data Science Tools and Ecosystem are summarized."
   ]
  },
  {
   "cell_type": "markdown",
   "id": "649dfb97-db66-4f3e-8f5c-0442077a3f84",
   "metadata": {},
   "source": [
    "Some of the popular languages that Data Scientists use are:\n",
    "1. Python\n",
    "2. R\n",
    "3. SQL\n",
    "4. Julia"
   ]
  },
  {
   "cell_type": "markdown",
   "id": "153a6c01-a3aa-4e17-8c4e-0bb2807b9b67",
   "metadata": {},
   "source": [
    "Some of the commonly used libraries used by Data Scientists include:\n",
    "1. Pandas\n",
    "2. Numpy\n",
    "3. Matplotlib\n",
    "4. PyTorch\n",
    "5. Seaborn"
   ]
  },
  {
   "cell_type": "markdown",
   "id": "398a5fe8-9e38-4dd6-ae84-022a79e3978b",
   "metadata": {},
   "source": [
    "| Data Science Tools |\n",
    "| ------------------ |\n",
    "| Visual Studio Code |\n",
    "| RStudio |\n",
    "| Jupyter Notebook |"
   ]
  },
  {
   "cell_type": "markdown",
   "id": "a9a15061-27af-446a-9507-6f6fe13330b2",
   "metadata": {},
   "source": [
    "### Below are a few examples of evaluating arithmetic expressions in Python"
   ]
  },
  {
   "cell_type": "code",
   "execution_count": 1,
   "id": "3be8ec3e-aa99-44eb-8c1c-2b0de8101da2",
   "metadata": {
    "tags": []
   },
   "outputs": [
    {
     "data": {
      "text/plain": [
       "17"
      ]
     },
     "execution_count": 1,
     "metadata": {},
     "output_type": "execute_result"
    }
   ],
   "source": [
    "# This a simple arithmetic expression to mutiply then add integers\n",
    "(3*4)+5"
   ]
  },
  {
   "cell_type": "code",
   "execution_count": 4,
   "id": "3f2b56aa-fc89-4712-ae3e-e314087f728e",
   "metadata": {
    "tags": []
   },
   "outputs": [
    {
     "name": "stdout",
     "output_type": "stream",
     "text": [
      "3.3333333333333335\n"
     ]
    }
   ],
   "source": [
    "# This will convert 200 minutes to hours by diving by 60\n",
    "hours = 200 / 60\n",
    "print(hours)"
   ]
  },
  {
   "cell_type": "markdown",
   "id": "e7732ef9-fe8e-42b1-8e48-3103ad5fa637",
   "metadata": {},
   "source": [
    "**Objectives:**\n",
    "- List of popular programming languages used in Data Science\n",
    "- Open Source tools for Data Science\n",
    "- Most popular libraries used in Data Science"
   ]
  },
  {
   "cell_type": "markdown",
   "id": "54e8a0ed-4fdf-48f6-b765-e44b906feb56",
   "metadata": {},
   "source": [
    "## Author: Luis Moquillaza"
   ]
  },
  {
   "cell_type": "code",
   "execution_count": null,
   "id": "c1ef2e74-d717-4e71-8d1c-58fbcb0d86be",
   "metadata": {},
   "outputs": [],
   "source": []
  }
 ],
 "metadata": {
  "kernelspec": {
   "display_name": "Python",
   "language": "python",
   "name": "conda-env-python-py"
  },
  "language_info": {
   "codemirror_mode": {
    "name": "ipython",
    "version": 3
   },
   "file_extension": ".py",
   "mimetype": "text/x-python",
   "name": "python",
   "nbconvert_exporter": "python",
   "pygments_lexer": "ipython3",
   "version": "3.7.12"
  }
 },
 "nbformat": 4,
 "nbformat_minor": 5
}
